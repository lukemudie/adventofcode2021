{
 "cells": [
  {
   "cell_type": "code",
   "execution_count": 1,
   "metadata": {},
   "outputs": [],
   "source": [
    "import numpy as np"
   ]
  },
  {
   "cell_type": "code",
   "execution_count": 2,
   "metadata": {},
   "outputs": [],
   "source": [
    "def get_fish(total_days):\n",
    "    # will keep track of how many new fish will be born on each day\n",
    "    new_fish_per_day = np.zeros(total_days)\n",
    "\n",
    "    # manually setting up the initial fish (I'm sorry)\n",
    "    total_fish = 300\n",
    "    new_fish_per_day[1] += 205\n",
    "    for birth_day in range(8, total_days, 7):\n",
    "        new_fish_per_day[birth_day] += 205\n",
    "        \n",
    "    new_fish_per_day[2] += 28\n",
    "    for birth_day in range(9, total_days, 7):\n",
    "        new_fish_per_day[birth_day] += 28\n",
    "        \n",
    "    new_fish_per_day[3] += 19\n",
    "    for birth_day in range(10, total_days, 7):\n",
    "        new_fish_per_day[birth_day] += 19\n",
    "        \n",
    "    new_fish_per_day[4] += 23\n",
    "    for birth_day in range(11, total_days, 7):\n",
    "        new_fish_per_day[birth_day] += 23\n",
    "        \n",
    "    new_fish_per_day[5] += 25\n",
    "    for birth_day in range(12, total_days, 7):\n",
    "        new_fish_per_day[birth_day] += 25\n",
    "\n",
    "    # now looping through the days\n",
    "    for i in range(total_days):\n",
    "        total_fish += new_fish_per_day[i]\n",
    "\n",
    "        # fish generated from ones born on this day will also be born on a set list of days:\n",
    "        # after 9 days, then every 7 days\n",
    "        if new_fish_per_day[i] > 0:\n",
    "            for birth_day in range(i + 9, total_days, 7):\n",
    "                new_fish_per_day[birth_day] += new_fish_per_day[i]\n",
    "\n",
    "        #print(new_fish_per_day[i:])\n",
    "\n",
    "    return(total_fish)"
   ]
  },
  {
   "cell_type": "code",
   "execution_count": 3,
   "metadata": {},
   "outputs": [
    {
     "name": "stdout",
     "output_type": "stream",
     "text": [
      "1862.0\n"
     ]
    }
   ],
   "source": [
    "print(get_fish(18))"
   ]
  },
  {
   "cell_type": "code",
   "execution_count": 4,
   "metadata": {},
   "outputs": [
    {
     "name": "stdout",
     "output_type": "stream",
     "text": [
      "390011.0\n"
     ]
    }
   ],
   "source": [
    "print(get_fish(80))"
   ]
  },
  {
   "cell_type": "code",
   "execution_count": 5,
   "metadata": {
    "scrolled": true
   },
   "outputs": [
    {
     "name": "stdout",
     "output_type": "stream",
     "text": [
      "1746710169834.0\n",
      "Wall time: 1.02 ms\n"
     ]
    }
   ],
   "source": [
    "%%time\n",
    "print(get_fish(256))"
   ]
  }
 ],
 "metadata": {
  "kernelspec": {
   "display_name": "Python 3",
   "language": "python",
   "name": "python3"
  },
  "language_info": {
   "codemirror_mode": {
    "name": "ipython",
    "version": 3
   },
   "file_extension": ".py",
   "mimetype": "text/x-python",
   "name": "python",
   "nbconvert_exporter": "python",
   "pygments_lexer": "ipython3",
   "version": "3.8.3"
  }
 },
 "nbformat": 4,
 "nbformat_minor": 4
}
